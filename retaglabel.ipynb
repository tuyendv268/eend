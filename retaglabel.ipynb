{
 "cells": [
  {
   "cell_type": "code",
   "execution_count": 10,
   "metadata": {},
   "outputs": [],
   "source": [
    "import wave\n",
    "import librosa\n",
    "import numpy as np\n",
    "import soundfile as sf\n",
    "import webrtcvad\n",
    "from tqdm import tqdm\n",
    "import pandas as pd\n",
    "import glob\n",
    "import os"
   ]
  },
  {
   "cell_type": "code",
   "execution_count": 11,
   "metadata": {},
   "outputs": [
    {
     "name": "stdout",
     "output_type": "stream",
     "text": [
      "['/home/tuyendv/projects/speaker-diazation/diarization-data/rttms/dev/TS3004a.rttm', '/home/tuyendv/projects/speaker-diazation/diarization-data/rttms/dev/IS1008c.rttm', '/home/tuyendv/projects/speaker-diazation/diarization-data/rttms/dev/IS1008d.rttm', '/home/tuyendv/projects/speaker-diazation/diarization-data/rttms/dev/ES2011a.rttm', '/home/tuyendv/projects/speaker-diazation/diarization-data/rttms/dev/IB4011.rttm', '/home/tuyendv/projects/speaker-diazation/diarization-data/rttms/dev/IS1008a.rttm', '/home/tuyendv/projects/speaker-diazation/diarization-data/rttms/dev/TS3004b.rttm', '/home/tuyendv/projects/speaker-diazation/diarization-data/rttms/dev/IB4010.rttm', '/home/tuyendv/projects/speaker-diazation/diarization-data/rttms/dev/IB4004.rttm', '/home/tuyendv/projects/speaker-diazation/diarization-data/rttms/dev/TS3004c.rttm', '/home/tuyendv/projects/speaker-diazation/diarization-data/rttms/dev/IB4003.rttm', '/home/tuyendv/projects/speaker-diazation/diarization-data/rttms/dev/IB4001.rttm', '/home/tuyendv/projects/speaker-diazation/diarization-data/rttms/dev/IS1008b.rttm', '/home/tuyendv/projects/speaker-diazation/diarization-data/rttms/dev/ES2011d.rttm', '/home/tuyendv/projects/speaker-diazation/diarization-data/rttms/dev/IB4002.rttm', '/home/tuyendv/projects/speaker-diazation/diarization-data/rttms/dev/TS3004d.rttm', '/home/tuyendv/projects/speaker-diazation/diarization-data/rttms/dev/ES2011c.rttm', '/home/tuyendv/projects/speaker-diazation/diarization-data/rttms/dev/ES2011b.rttm']\n",
      "['/home/tuyendv/projects/speaker-diazation/diarization-data/wav/TS3011b/audio/TS3011b.Mix-Headset.wav', '/home/tuyendv/projects/speaker-diazation/diarization-data/wav/ES2006b/audio/ES2006b.Mix-Headset.wav', '/home/tuyendv/projects/speaker-diazation/diarization-data/wav/TS3011a/audio/TS3011a.Mix-Headset.wav', '/home/tuyendv/projects/speaker-diazation/diarization-data/wav/TS3010a/audio/TS3010a.Mix-Headset.wav', '/home/tuyendv/projects/speaker-diazation/diarization-data/wav/IS1003b/audio/IS1003b.Mix-Headset.wav', '/home/tuyendv/projects/speaker-diazation/diarization-data/wav/ES2013b/audio/ES2013b.Mix-Headset.wav', '/home/tuyendv/projects/speaker-diazation/diarization-data/wav/EN2002a/audio/EN2002a.Mix-Headset.wav', '/home/tuyendv/projects/speaker-diazation/diarization-data/wav/IS1003a/audio/IS1003a.Mix-Headset.wav', '/home/tuyendv/projects/speaker-diazation/diarization-data/wav/ES2010c/audio/ES2010c.Mix-Headset.wav', '/home/tuyendv/projects/speaker-diazation/diarization-data/wav/EN2009c/audio/EN2009c.Mix-Headset.wav', '/home/tuyendv/projects/speaker-diazation/diarization-data/wav/ES2004a/audio/ES2004a.Mix-Headset.wav', '/home/tuyendv/projects/speaker-diazation/diarization-data/wav/IS1001a/audio/IS1001a.Mix-Headset.wav', '/home/tuyendv/projects/speaker-diazation/diarization-data/wav/IS1008b/audio/IS1008b.Mix-Headset.wav', '/home/tuyendv/projects/speaker-diazation/diarization-data/wav/EN2006b/audio/EN2006b.Mix-Headset.wav', '/home/tuyendv/projects/speaker-diazation/diarization-data/wav/ES2015d/audio/ES2015d.Mix-Headset.wav', '/home/tuyendv/projects/speaker-diazation/diarization-data/wav/IN1008/audio/IN1008.Mix-Headset.wav', '/home/tuyendv/projects/speaker-diazation/diarization-data/wav/IB4004/audio/IB4004.Mix-Headset.wav', '/home/tuyendv/projects/speaker-diazation/diarization-data/wav/TS3008c/audio/TS3008c.Mix-Headset.wav', '/home/tuyendv/projects/speaker-diazation/diarization-data/wav/ES2007b/audio/ES2007b.Mix-Headset.wav', '/home/tuyendv/projects/speaker-diazation/diarization-data/wav/IS1001c/audio/IS1001c.Mix-Headset.wav', '/home/tuyendv/projects/speaker-diazation/diarization-data/wav/ES2010a/audio/ES2010a.Mix-Headset.wav', '/home/tuyendv/projects/speaker-diazation/diarization-data/wav/IS1006c/audio/IS1006c.Mix-Headset.wav', '/home/tuyendv/projects/speaker-diazation/diarization-data/wav/IN1005/audio/IN1005.Mix-Headset.wav', '/home/tuyendv/projects/speaker-diazation/diarization-data/wav/ES2007a/audio/ES2007a.Mix-Headset.wav', '/home/tuyendv/projects/speaker-diazation/diarization-data/wav/TS3011c/audio/TS3011c.Mix-Headset.wav', '/home/tuyendv/projects/speaker-diazation/diarization-data/wav/EN2001d/audio/EN2001d.Mix-Headset.wav', '/home/tuyendv/projects/speaker-diazation/diarization-data/wav/IS1006a/audio/IS1006a.Mix-Headset.wav', '/home/tuyendv/projects/speaker-diazation/diarization-data/wav/ES2015b/audio/ES2015b.Mix-Headset.wav', '/home/tuyendv/projects/speaker-diazation/diarization-data/wav/IN1012/audio/IN1012.Mix-Headset.wav', '/home/tuyendv/projects/speaker-diazation/diarization-data/wav/TS3006d/audio/TS3006d.Mix-Headset.wav', '/home/tuyendv/projects/speaker-diazation/diarization-data/wav/TS3007d/audio/TS3007d.Mix-Headset.wav', '/home/tuyendv/projects/speaker-diazation/diarization-data/wav/TS3004c/audio/TS3004c.Mix-Headset.wav', '/home/tuyendv/projects/speaker-diazation/diarization-data/wav/ES2009b/audio/ES2009b.Mix-Headset.wav', '/home/tuyendv/projects/speaker-diazation/diarization-data/wav/IB4005/audio/IB4005.Mix-Headset.wav', '/home/tuyendv/projects/speaker-diazation/diarization-data/wav/IS1005c/audio/IS1005c.Mix-Headset.wav', '/home/tuyendv/projects/speaker-diazation/diarization-data/wav/EN2002c/audio/EN2002c.Mix-Headset.wav', '/home/tuyendv/projects/speaker-diazation/diarization-data/wav/TS3003d/audio/TS3003d.Mix-Headset.wav', '/home/tuyendv/projects/speaker-diazation/diarization-data/wav/EN2004a/audio/EN2004a.Mix-Headset.wav', '/home/tuyendv/projects/speaker-diazation/diarization-data/wav/IS1007b/audio/IS1007b.Mix-Headset.wav', '/home/tuyendv/projects/speaker-diazation/diarization-data/wav/TS3009c/audio/TS3009c.Mix-Headset.wav', '/home/tuyendv/projects/speaker-diazation/diarization-data/wav/TS3004a/audio/TS3004a.Mix-Headset.wav', '/home/tuyendv/projects/speaker-diazation/diarization-data/wav/ES2008c/audio/ES2008c.Mix-Headset.wav', '/home/tuyendv/projects/speaker-diazation/diarization-data/wav/EN2002b/audio/EN2002b.Mix-Headset.wav', '/home/tuyendv/projects/speaker-diazation/diarization-data/wav/IS1002d/audio/IS1002d.Mix-Headset.wav', '/home/tuyendv/projects/speaker-diazation/diarization-data/wav/TS3005c/audio/TS3005c.Mix-Headset.wav', '/home/tuyendv/projects/speaker-diazation/diarization-data/wav/TS3003b/audio/TS3003b.Mix-Headset.wav', '/home/tuyendv/projects/speaker-diazation/diarization-data/wav/ES2009c/audio/ES2009c.Mix-Headset.wav', '/home/tuyendv/projects/speaker-diazation/diarization-data/wav/ES2011d/audio/ES2011d.Mix-Headset.wav', '/home/tuyendv/projects/speaker-diazation/diarization-data/wav/ES2013d/audio/ES2013d.Mix-Headset.wav', '/home/tuyendv/projects/speaker-diazation/diarization-data/wav/ES2011a/audio/ES2011a.Mix-Headset.wav', '/home/tuyendv/projects/speaker-diazation/diarization-data/wav/TS3009b/audio/TS3009b.Mix-Headset.wav', '/home/tuyendv/projects/speaker-diazation/diarization-data/wav/IN1007/audio/IN1007.Mix-Headset.wav', '/home/tuyendv/projects/speaker-diazation/diarization-data/wav/ES2004d/audio/ES2004d.Mix-Headset.wav', '/home/tuyendv/projects/speaker-diazation/diarization-data/wav/IN1014/audio/IN1014.Mix-Headset.wav', '/home/tuyendv/projects/speaker-diazation/diarization-data/wav/IS1004d/audio/IS1004d.Mix-Headset.wav', '/home/tuyendv/projects/speaker-diazation/diarization-data/wav/IN1001/audio/IN1001.Mix-Headset.wav', '/home/tuyendv/projects/speaker-diazation/diarization-data/wav/TS3007a/audio/TS3007a.Mix-Headset.wav', '/home/tuyendv/projects/speaker-diazation/diarization-data/wav/EN2001b/audio/EN2001b.Mix-Headset.wav', '/home/tuyendv/projects/speaker-diazation/diarization-data/wav/ES2006a/audio/ES2006a.Mix-Headset.wav', '/home/tuyendv/projects/speaker-diazation/diarization-data/wav/IS1009c/audio/IS1009c.Mix-Headset.wav', '/home/tuyendv/projects/speaker-diazation/diarization-data/wav/ES2008a/audio/ES2008a.Mix-Headset.wav', '/home/tuyendv/projects/speaker-diazation/diarization-data/wav/ES2014b/audio/ES2014b.Mix-Headset.wav', '/home/tuyendv/projects/speaker-diazation/diarization-data/wav/TS3005a/audio/TS3005a.Mix-Headset.wav', '/home/tuyendv/projects/speaker-diazation/diarization-data/wav/TS3008a/audio/TS3008a.Mix-Headset.wav', '/home/tuyendv/projects/speaker-diazation/diarization-data/wav/ES2016c/audio/ES2016c.Mix-Headset.wav', '/home/tuyendv/projects/speaker-diazation/diarization-data/wav/ES2011c/audio/ES2011c.Mix-Headset.wav', '/home/tuyendv/projects/speaker-diazation/diarization-data/wav/TS3007b/audio/TS3007b.Mix-Headset.wav', '/home/tuyendv/projects/speaker-diazation/diarization-data/wav/ES2006c/audio/ES2006c.Mix-Headset.wav', '/home/tuyendv/projects/speaker-diazation/diarization-data/wav/ES2005d/audio/ES2005d.Mix-Headset.wav', '/home/tuyendv/projects/speaker-diazation/diarization-data/wav/TS3009a/audio/TS3009a.Mix-Headset.wav', '/home/tuyendv/projects/speaker-diazation/diarization-data/wav/EN2006a/audio/EN2006a.Mix-Headset.wav', '/home/tuyendv/projects/speaker-diazation/diarization-data/wav/IS1001b/audio/IS1001b.Mix-Headset.wav', '/home/tuyendv/projects/speaker-diazation/diarization-data/wav/IS1003c/audio/IS1003c.Mix-Headset.wav', '/home/tuyendv/projects/speaker-diazation/diarization-data/wav/TS3010c/audio/TS3010c.Mix-Headset.wav', '/home/tuyendv/projects/speaker-diazation/diarization-data/wav/IS1003d/audio/IS1003d.Mix-Headset.wav', '/home/tuyendv/projects/speaker-diazation/diarization-data/wav/EN2002d/audio/EN2002d.Mix-Headset.wav', '/home/tuyendv/projects/speaker-diazation/diarization-data/wav/IS1005b/audio/IS1005b.Mix-Headset.wav', '/home/tuyendv/projects/speaker-diazation/diarization-data/wav/EN2005a/audio/EN2005a.Mix-Headset.wav', '/home/tuyendv/projects/speaker-diazation/diarization-data/wav/IS1009d/audio/IS1009d.Mix-Headset.wav', '/home/tuyendv/projects/speaker-diazation/diarization-data/wav/TS3003c/audio/TS3003c.Mix-Headset.wav', '/home/tuyendv/projects/speaker-diazation/diarization-data/wav/IN1016/audio/IN1016.Mix-Headset.wav', '/home/tuyendv/projects/speaker-diazation/diarization-data/wav/ES2014d/audio/ES2014d.Mix-Headset.wav', '/home/tuyendv/projects/speaker-diazation/diarization-data/wav/IS1008d/audio/IS1008d.Mix-Headset.wav', '/home/tuyendv/projects/speaker-diazation/diarization-data/wav/IS1006d/audio/IS1006d.Mix-Headset.wav', '/home/tuyendv/projects/speaker-diazation/diarization-data/wav/TS3012d/audio/TS3012d.Mix-Headset.wav', '/home/tuyendv/projects/speaker-diazation/diarization-data/wav/TS3008b/audio/TS3008b.Mix-Headset.wav', '/home/tuyendv/projects/speaker-diazation/diarization-data/wav/ES2016d/audio/ES2016d.Mix-Headset.wav', '/home/tuyendv/projects/speaker-diazation/diarization-data/wav/IS1000c/audio/IS1000c.Mix-Headset.wav', '/home/tuyendv/projects/speaker-diazation/diarization-data/wav/ES2002a/audio/ES2002a.Mix-Headset.wav', '/home/tuyendv/projects/speaker-diazation/diarization-data/wav/ES2014a/audio/ES2014a.Mix-Headset.wav', '/home/tuyendv/projects/speaker-diazation/diarization-data/wav/ES2002c/audio/ES2002c.Mix-Headset.wav', '/home/tuyendv/projects/speaker-diazation/diarization-data/wav/ES2013a/audio/ES2013a.Mix-Headset.wav', '/home/tuyendv/projects/speaker-diazation/diarization-data/wav/IS1006b/audio/IS1006b.Mix-Headset.wav', '/home/tuyendv/projects/speaker-diazation/diarization-data/wav/ES2016a/audio/ES2016a.Mix-Headset.wav', '/home/tuyendv/projects/speaker-diazation/diarization-data/wav/TS3003a/audio/TS3003a.Mix-Headset.wav', '/home/tuyendv/projects/speaker-diazation/diarization-data/wav/TS3006c/audio/TS3006c.Mix-Headset.wav', '/home/tuyendv/projects/speaker-diazation/diarization-data/wav/ES2012b/audio/ES2012b.Mix-Headset.wav', '/home/tuyendv/projects/speaker-diazation/diarization-data/wav/IS1009b/audio/IS1009b.Mix-Headset.wav', '/home/tuyendv/projects/speaker-diazation/diarization-data/wav/ES2013c/audio/ES2013c.Mix-Headset.wav', '/home/tuyendv/projects/speaker-diazation/diarization-data/wav/IS1008c/audio/IS1008c.Mix-Headset.wav', '/home/tuyendv/projects/speaker-diazation/diarization-data/wav/TS3005b/audio/TS3005b.Mix-Headset.wav', '/home/tuyendv/projects/speaker-diazation/diarization-data/wav/ES2012a/audio/ES2012a.Mix-Headset.wav', '/home/tuyendv/projects/speaker-diazation/diarization-data/wav/ES2012d/audio/ES2012d.Mix-Headset.wav', '/home/tuyendv/projects/speaker-diazation/diarization-data/wav/IS1004c/audio/IS1004c.Mix-Headset.wav', '/home/tuyendv/projects/speaker-diazation/diarization-data/wav/IB4003/audio/IB4003.Mix-Headset.wav', '/home/tuyendv/projects/speaker-diazation/diarization-data/wav/TS3006a/audio/TS3006a.Mix-Headset.wav', '/home/tuyendv/projects/speaker-diazation/diarization-data/wav/ES2003d/audio/ES2003d.Mix-Headset.wav', '/home/tuyendv/projects/speaker-diazation/diarization-data/wav/ES2002b/audio/ES2002b.Mix-Headset.wav', '/home/tuyendv/projects/speaker-diazation/diarization-data/wav/IB4010/audio/IB4010.Mix-Headset.wav', '/home/tuyendv/projects/speaker-diazation/diarization-data/wav/TS3005d/audio/TS3005d.Mix-Headset.wav', '/home/tuyendv/projects/speaker-diazation/diarization-data/wav/ES2009a/audio/ES2009a.Mix-Headset.wav', '/home/tuyendv/projects/speaker-diazation/diarization-data/wav/IN1002/audio/IN1002.Mix-Headset.wav', '/home/tuyendv/projects/speaker-diazation/diarization-data/wav/IS1007c/audio/IS1007c.Mix-Headset.wav', '/home/tuyendv/projects/speaker-diazation/diarization-data/wav/ES2007d/audio/ES2007d.Mix-Headset.wav', '/home/tuyendv/projects/speaker-diazation/diarization-data/wav/IS1004a/audio/IS1004a.Mix-Headset.wav', '/home/tuyendv/projects/speaker-diazation/diarization-data/wav/IB4002/audio/IB4002.Mix-Headset.wav', '/home/tuyendv/projects/speaker-diazation/diarization-data/wav/ES2002d/audio/ES2002d.Mix-Headset.wav', '/home/tuyendv/projects/speaker-diazation/diarization-data/wav/ES2015c/audio/ES2015c.Mix-Headset.wav', '/home/tuyendv/projects/speaker-diazation/diarization-data/wav/ES2006d/audio/ES2006d.Mix-Headset.wav', '/home/tuyendv/projects/speaker-diazation/diarization-data/wav/TS3010b/audio/TS3010b.Mix-Headset.wav', '/home/tuyendv/projects/speaker-diazation/diarization-data/wav/IS1007a/audio/IS1007a.Mix-Headset.wav', '/home/tuyendv/projects/speaker-diazation/diarization-data/wav/ES2005a/audio/ES2005a.Mix-Headset.wav', '/home/tuyendv/projects/speaker-diazation/diarization-data/wav/IS1002c/audio/IS1002c.Mix-Headset.wav', '/home/tuyendv/projects/speaker-diazation/diarization-data/wav/ES2007c/audio/ES2007c.Mix-Headset.wav', '/home/tuyendv/projects/speaker-diazation/diarization-data/wav/IB4001/audio/IB4001.Mix-Headset.wav', '/home/tuyendv/projects/speaker-diazation/diarization-data/wav/TS3012b/audio/TS3012b.Mix-Headset.wav', '/home/tuyendv/projects/speaker-diazation/diarization-data/wav/TS3004d/audio/TS3004d.Mix-Headset.wav', '/home/tuyendv/projects/speaker-diazation/diarization-data/wav/TS3012c/audio/TS3012c.Mix-Headset.wav', '/home/tuyendv/projects/speaker-diazation/diarization-data/wav/ES2003b/audio/ES2003b.Mix-Headset.wav', '/home/tuyendv/projects/speaker-diazation/diarization-data/wav/TS3008d/audio/TS3008d.Mix-Headset.wav', '/home/tuyendv/projects/speaker-diazation/diarization-data/wav/ES2011b/audio/ES2011b.Mix-Headset.wav', '/home/tuyendv/projects/speaker-diazation/diarization-data/wav/ES2004c/audio/ES2004c.Mix-Headset.wav', '/home/tuyendv/projects/speaker-diazation/diarization-data/wav/IS1007d/audio/IS1007d.Mix-Headset.wav', '/home/tuyendv/projects/speaker-diazation/diarization-data/wav/ES2004b/audio/ES2004b.Mix-Headset.wav', '/home/tuyendv/projects/speaker-diazation/diarization-data/wav/TS3012a/audio/TS3012a.Mix-Headset.wav', '/home/tuyendv/projects/speaker-diazation/diarization-data/wav/IS1005a/audio/IS1005a.Mix-Headset.wav', '/home/tuyendv/projects/speaker-diazation/diarization-data/wav/IS1009a/audio/IS1009a.Mix-Headset.wav', '/home/tuyendv/projects/speaker-diazation/diarization-data/wav/ES2005c/audio/ES2005c.Mix-Headset.wav', '/home/tuyendv/projects/speaker-diazation/diarization-data/wav/ES2003c/audio/ES2003c.Mix-Headset.wav', '/home/tuyendv/projects/speaker-diazation/diarization-data/wav/IS1004b/audio/IS1004b.Mix-Headset.wav', '/home/tuyendv/projects/speaker-diazation/diarization-data/wav/ES2015a/audio/ES2015a.Mix-Headset.wav', '/home/tuyendv/projects/speaker-diazation/diarization-data/wav/EN2009d/audio/EN2009d.Mix-Headset.wav', '/home/tuyendv/projects/speaker-diazation/diarization-data/wav/ES2010b/audio/ES2010b.Mix-Headset.wav', '/home/tuyendv/projects/speaker-diazation/diarization-data/wav/ES2012c/audio/ES2012c.Mix-Headset.wav', '/home/tuyendv/projects/speaker-diazation/diarization-data/wav/ES2009d/audio/ES2009d.Mix-Headset.wav', '/home/tuyendv/projects/speaker-diazation/diarization-data/wav/EN2003a/audio/EN2003a.Mix-Headset.wav', '/home/tuyendv/projects/speaker-diazation/diarization-data/wav/TS3011d/audio/TS3011d.Mix-Headset.wav', '/home/tuyendv/projects/speaker-diazation/diarization-data/wav/TS3009d/audio/TS3009d.Mix-Headset.wav', '/home/tuyendv/projects/speaker-diazation/diarization-data/wav/TS3004b/audio/TS3004b.Mix-Headset.wav', '/home/tuyendv/projects/speaker-diazation/diarization-data/wav/IS1001d/audio/IS1001d.Mix-Headset.wav', '/home/tuyendv/projects/speaker-diazation/diarization-data/wav/EN2001e/audio/EN2001e.Mix-Headset.wav', '/home/tuyendv/projects/speaker-diazation/diarization-data/wav/IS1002b/audio/IS1002b.Mix-Headset.wav', '/home/tuyendv/projects/speaker-diazation/diarization-data/wav/IS1000d/audio/IS1000d.Mix-Headset.wav', '/home/tuyendv/projects/speaker-diazation/diarization-data/wav/EN2009b/audio/EN2009b.Mix-Headset.wav', '/home/tuyendv/projects/speaker-diazation/diarization-data/wav/ES2008b/audio/ES2008b.Mix-Headset.wav', '/home/tuyendv/projects/speaker-diazation/diarization-data/wav/IB4011/audio/IB4011.Mix-Headset.wav', '/home/tuyendv/projects/speaker-diazation/diarization-data/wav/TS3010d/audio/TS3010d.Mix-Headset.wav', '/home/tuyendv/projects/speaker-diazation/diarization-data/wav/IN1009/audio/IN1009.Mix-Headset.wav', '/home/tuyendv/projects/speaker-diazation/diarization-data/wav/ES2003a/audio/ES2003a.Mix-Headset.wav', '/home/tuyendv/projects/speaker-diazation/diarization-data/wav/IS1008a/audio/IS1008a.Mix-Headset.wav', '/home/tuyendv/projects/speaker-diazation/diarization-data/wav/ES2016b/audio/ES2016b.Mix-Headset.wav', '/home/tuyendv/projects/speaker-diazation/diarization-data/wav/TS3007c/audio/TS3007c.Mix-Headset.wav', '/home/tuyendv/projects/speaker-diazation/diarization-data/wav/ES2008d/audio/ES2008d.Mix-Headset.wav', '/home/tuyendv/projects/speaker-diazation/diarization-data/wav/IN1013/audio/IN1013.Mix-Headset.wav', '/home/tuyendv/projects/speaker-diazation/diarization-data/wav/ES2005b/audio/ES2005b.Mix-Headset.wav', '/home/tuyendv/projects/speaker-diazation/diarization-data/wav/TS3006b/audio/TS3006b.Mix-Headset.wav', '/home/tuyendv/projects/speaker-diazation/diarization-data/wav/EN2001a/audio/EN2001a.Mix-Headset.wav', '/home/tuyendv/projects/speaker-diazation/diarization-data/wav/ES2014c/audio/ES2014c.Mix-Headset.wav']\n",
      "{'TS3004a': '/home/tuyendv/projects/speaker-diazation/diarization-data/wav/TS3004a/audio/TS3004a.Mix-Headset.wav', 'IS1008c': '/home/tuyendv/projects/speaker-diazation/diarization-data/wav/IS1008c/audio/IS1008c.Mix-Headset.wav', 'IS1008d': '/home/tuyendv/projects/speaker-diazation/diarization-data/wav/IS1008d/audio/IS1008d.Mix-Headset.wav', 'ES2011a': '/home/tuyendv/projects/speaker-diazation/diarization-data/wav/ES2011a/audio/ES2011a.Mix-Headset.wav', 'IB4011': '/home/tuyendv/projects/speaker-diazation/diarization-data/wav/IB4011/audio/IB4011.Mix-Headset.wav', 'IS1008a': '/home/tuyendv/projects/speaker-diazation/diarization-data/wav/IS1008a/audio/IS1008a.Mix-Headset.wav', 'TS3004b': '/home/tuyendv/projects/speaker-diazation/diarization-data/wav/TS3004b/audio/TS3004b.Mix-Headset.wav', 'IB4010': '/home/tuyendv/projects/speaker-diazation/diarization-data/wav/IB4010/audio/IB4010.Mix-Headset.wav', 'IB4004': '/home/tuyendv/projects/speaker-diazation/diarization-data/wav/IB4004/audio/IB4004.Mix-Headset.wav', 'TS3004c': '/home/tuyendv/projects/speaker-diazation/diarization-data/wav/TS3004c/audio/TS3004c.Mix-Headset.wav', 'IB4003': '/home/tuyendv/projects/speaker-diazation/diarization-data/wav/IB4003/audio/IB4003.Mix-Headset.wav', 'IB4001': '/home/tuyendv/projects/speaker-diazation/diarization-data/wav/IB4001/audio/IB4001.Mix-Headset.wav', 'IS1008b': '/home/tuyendv/projects/speaker-diazation/diarization-data/wav/IS1008b/audio/IS1008b.Mix-Headset.wav', 'ES2011d': '/home/tuyendv/projects/speaker-diazation/diarization-data/wav/ES2011d/audio/ES2011d.Mix-Headset.wav', 'IB4002': '/home/tuyendv/projects/speaker-diazation/diarization-data/wav/IB4002/audio/IB4002.Mix-Headset.wav', 'TS3004d': '/home/tuyendv/projects/speaker-diazation/diarization-data/wav/TS3004d/audio/TS3004d.Mix-Headset.wav', 'ES2011c': '/home/tuyendv/projects/speaker-diazation/diarization-data/wav/ES2011c/audio/ES2011c.Mix-Headset.wav', 'ES2011b': '/home/tuyendv/projects/speaker-diazation/diarization-data/wav/ES2011b/audio/ES2011b.Mix-Headset.wav'}\n"
     ]
    }
   ],
   "source": [
    "rttm_path = \"/home/tuyendv/projects/speaker-diazation/diarization-data/rttms/dev\"\n",
    "wav_path = \"/home/tuyendv/projects/speaker-diazation/diarization-data/wav\"\n",
    "\n",
    "rttm_files = glob.glob(os.path.join(rttm_path, \"*.rttm\"))\n",
    "print(rttm_files)\n",
    "wav_files = glob.glob(os.path.join(wav_path, \"*/audio/*.wav\"))\n",
    "print(wav_files)\n",
    "\n",
    "rttm2wav = {}\n",
    "for rttm_file in rttm_files:\n",
    "    rttm_name = rttm_file.split(\"/\")[-1].split(\".\")[0]\n",
    "    for wav_file in wav_files:\n",
    "        if rttm_name == wav_file.split(\"/\")[-3]:\n",
    "            rttm2wav[rttm_name] = wav_file\n",
    "print(rttm2wav)"
   ]
  },
  {
   "cell_type": "code",
   "execution_count": 12,
   "metadata": {},
   "outputs": [],
   "source": [
    "def load_wave(path):\n",
    "    with wave.open(path, 'rb') as wf:\n",
    "        num_channels = wf.getnchannels()\n",
    "        assert num_channels == 1\n",
    "        sample_width = wf.getsampwidth()\n",
    "        assert sample_width == 2\n",
    "        sample_rate = wf.getframerate()\n",
    "        assert sample_rate in (8000, 16000, 32000, 48000)\n",
    "        pcm_data = wf.readframes(wf.getnframes())\n",
    "    return pcm_data, sample_rate\n",
    "    \n",
    "class Frame(object):\n",
    "  def __init__(self, bytes, timestamp, duration):\n",
    "        self.bytes = bytes\n",
    "        self.timestamp = timestamp\n",
    "        self.duration = duration\n",
    "\n",
    "\n",
    "def frame_generator(frame_duration_ms, audio, sample_rate):\n",
    "    n = int(sample_rate * (frame_duration_ms / 1000.0) * 2)\n",
    "    offset = 0\n",
    "    timestamp = 0.0\n",
    "    duration = (float(n) / sample_rate) / 2.0\n",
    "    while offset + n < len(audio):\n",
    "        yield Frame(audio[offset:offset + n], timestamp, duration)\n",
    "        timestamp += duration\n",
    "        offset += n\n",
    "\n",
    "\n",
    "def vad_collector(vad, frames, sample_rate):\n",
    "    is_speech = []\n",
    "    for frame in frames:\n",
    "        is_speech.append(vad.is_speech(frame.bytes, sample_rate))\n",
    "    return is_speech\n",
    "\n",
    "def vad(file):\n",
    "    audio, sample_rate = load_wave(file)\n",
    "    vad = webrtcvad.Vad(3)\n",
    "    frames = frame_generator(10, audio, sample_rate)\n",
    "    frames = list(frames)\n",
    "    segments = vad_collector(vad, frames, sample_rate)\n",
    "    return segments\n",
    "\n",
    "def speech(file):\n",
    "  dummy = 0\n",
    "  data = []\n",
    "  segments = vad(file)\n",
    "  audio, sr = librosa.load(file)\n",
    "  for i in segments:\n",
    "    if i == True:\n",
    "      data.append(audio[dummy:dummy + 160])\n",
    "      dummy = dummy + 160\n",
    "    else:\n",
    "      dummy = dummy + 160\n",
    "  data = np.ravel(np.asarray(data))\n",
    "\n",
    "  return data"
   ]
  },
  {
   "cell_type": "code",
   "execution_count": 13,
   "metadata": {},
   "outputs": [],
   "source": [
    "def vad(audio, sample_rate):\n",
    "    vad = webrtcvad.Vad(2)\n",
    "    frames = frame_generator(10, audio, sample_rate)\n",
    "    frames = list(frames)\n",
    "    segments = vad_collector(vad, frames, sample_rate)\n",
    "    return segments"
   ]
  },
  {
   "cell_type": "code",
   "execution_count": 14,
   "metadata": {},
   "outputs": [],
   "source": [
    "def resegment(audio, framerate, start, segments):\n",
    "    speech_in_frame, non_speech_in_frame = [], []\n",
    "    timestamp_in_frame = int(start * framerate)\n",
    "    duration_in_frame = 160\n",
    "    new_segments = []\n",
    "    \n",
    "    total_nonspeech = 0\n",
    "    prev = False\n",
    "    for idx, curr in enumerate(segments):\n",
    "        if curr == True or idx == 0:\n",
    "            if prev == False:\n",
    "                start = timestamp_in_frame\n",
    "        elif curr == False:\n",
    "            # print(\"False\")\n",
    "            if prev == True:\n",
    "                end = timestamp_in_frame\n",
    "                # print(f\"start : {start} - end : {end}\")\n",
    "                new_segments.append((start/framerate, end/framerate))\n",
    "                # speech_in_frame.append(list(audio[start:end]))\n",
    "                speech_in_frame+=list(audio[start:end])\n",
    "            total_nonspeech += duration_in_frame\n",
    "        timestamp_in_frame = timestamp_in_frame + duration_in_frame\n",
    "        prev = curr\n",
    "    # speech_in_frame = np.ravel(np.asarray(speech_in_frame))\n",
    "    return new_segments, total_nonspeech"
   ]
  },
  {
   "cell_type": "code",
   "execution_count": 15,
   "metadata": {},
   "outputs": [],
   "source": [
    "def do_retaglabel(element, segments):\n",
    "    new_segment = []\n",
    "    temp = {}\n",
    "    for start, end in segments:\n",
    "        temp = dict(element)\n",
    "        temp[\"st\"] = round(start,2)\n",
    "        temp[\"et\"] = round(end, 2)\n",
    "        temp[\"dur\"] = round(end - start,2)\n",
    "        new_segment.append(temp)\n",
    "    return new_segment"
   ]
  },
  {
   "cell_type": "code",
   "execution_count": 16,
   "metadata": {},
   "outputs": [],
   "source": [
    "def save_file(path, df):\n",
    "    with open(path, \"w\", encoding=\"utf-8\")as tmp:\n",
    "        temp = df.to_csv(index=False, sep=\" \", na_rep=\"<NA>\", header=None)\n",
    "        tmp.write(temp)\n",
    "    print(\"saved: \", path)"
   ]
  },
  {
   "cell_type": "code",
   "execution_count": 17,
   "metadata": {},
   "outputs": [],
   "source": [
    "def retaglabel(rttm_in):\n",
    "    print(rttm_in)\n",
    "    rttm_out = \"/home/tuyendv/projects/speaker-diazation/data/dev\"\n",
    "    \n",
    "    label = pd.read_csv(rttm_in, sep=\" \", header=None)\n",
    "    label.columns = [\"utt\",\"rec\",\"sth_1\",\"st\",\"dur\",\"sth_2\",\"sth_3\",\"spk_id\",\"sth_4\",\"sth_5\"]\n",
    "    label[\"et\"]= label['st'] + label['dur']\n",
    "    \n",
    "    rttm_name = rttm_in.split(\"/\")[-1].split(\".\")[0]\n",
    "    wavs, sample_rate = load_wave(rttm2wav[rttm_name])\n",
    "    audio, _ = librosa.load(rttm2wav[rttm_name], sr=sample_rate)\n",
    "    \n",
    "    total_nonspeech = 0\n",
    "    new_segments = []\n",
    "    for index in label.index:\n",
    "        start = label['st'][index]\n",
    "        end = label['et'][index]\n",
    "        wav = wavs[int(start*sample_rate*2): int(end*sample_rate*2)]\n",
    "        \n",
    "        segments = vad(wav, sample_rate)\n",
    "        segments, nonspeech = resegment(audio, sample_rate, start, segments)\n",
    "        total_nonspeech += nonspeech\n",
    "        segments = do_retaglabel(label.iloc[index], segments)\n",
    "        new_segments+=segments\n",
    "    print(total_nonspeech/16000)\n",
    "    label = pd.DataFrame(new_segments)\n",
    "    out_path = os.path.join(rttm_out, rttm_name+\".rttm\")\n",
    "    save_file(out_path, label)"
   ]
  },
  {
   "cell_type": "code",
   "execution_count": 18,
   "metadata": {},
   "outputs": [
    {
     "name": "stderr",
     "output_type": "stream",
     "text": [
      "  0%|          | 0/18 [00:00<?, ?it/s]"
     ]
    },
    {
     "name": "stdout",
     "output_type": "stream",
     "text": [
      "/home/tuyendv/projects/speaker-diazation/diarization-data/rttms/dev/TS3004a.rttm\n"
     ]
    },
    {
     "name": "stderr",
     "output_type": "stream",
     "text": [
      "  6%|▌         | 1/18 [00:00<00:15,  1.12it/s]"
     ]
    },
    {
     "name": "stdout",
     "output_type": "stream",
     "text": [
      "374.36\n",
      "saved:  /home/tuyendv/projects/speaker-diazation/data/dev/TS3004a.rttm\n",
      "/home/tuyendv/projects/speaker-diazation/diarization-data/rttms/dev/IS1008c.rttm\n"
     ]
    },
    {
     "name": "stderr",
     "output_type": "stream",
     "text": [
      " 11%|█         | 2/18 [00:02<00:18,  1.18s/it]"
     ]
    },
    {
     "name": "stdout",
     "output_type": "stream",
     "text": [
      "128.8\n",
      "saved:  /home/tuyendv/projects/speaker-diazation/data/dev/IS1008c.rttm\n",
      "/home/tuyendv/projects/speaker-diazation/diarization-data/rttms/dev/IS1008d.rttm\n"
     ]
    },
    {
     "name": "stderr",
     "output_type": "stream",
     "text": [
      " 17%|█▋        | 3/18 [00:03<00:18,  1.25s/it]"
     ]
    },
    {
     "name": "stdout",
     "output_type": "stream",
     "text": [
      "119.28\n",
      "saved:  /home/tuyendv/projects/speaker-diazation/data/dev/IS1008d.rttm\n",
      "/home/tuyendv/projects/speaker-diazation/diarization-data/rttms/dev/ES2011a.rttm\n"
     ]
    },
    {
     "name": "stderr",
     "output_type": "stream",
     "text": [
      " 22%|██▏       | 4/18 [00:04<00:15,  1.11s/it]"
     ]
    },
    {
     "name": "stdout",
     "output_type": "stream",
     "text": [
      "222.76\n",
      "saved:  /home/tuyendv/projects/speaker-diazation/data/dev/ES2011a.rttm\n",
      "/home/tuyendv/projects/speaker-diazation/diarization-data/rttms/dev/IB4011.rttm\n"
     ]
    },
    {
     "name": "stderr",
     "output_type": "stream",
     "text": [
      " 28%|██▊       | 5/18 [00:06<00:20,  1.56s/it]"
     ]
    },
    {
     "name": "stdout",
     "output_type": "stream",
     "text": [
      "152.95\n",
      "saved:  /home/tuyendv/projects/speaker-diazation/data/dev/IB4011.rttm\n",
      "/home/tuyendv/projects/speaker-diazation/diarization-data/rttms/dev/IS1008a.rttm\n"
     ]
    },
    {
     "name": "stderr",
     "output_type": "stream",
     "text": [
      " 33%|███▎      | 6/18 [00:07<00:15,  1.29s/it]"
     ]
    },
    {
     "name": "stdout",
     "output_type": "stream",
     "text": [
      "82.35\n",
      "saved:  /home/tuyendv/projects/speaker-diazation/data/dev/IS1008a.rttm\n",
      "/home/tuyendv/projects/speaker-diazation/diarization-data/rttms/dev/TS3004b.rttm\n"
     ]
    },
    {
     "name": "stderr",
     "output_type": "stream",
     "text": [
      " 39%|███▉      | 7/18 [00:09<00:16,  1.48s/it]"
     ]
    },
    {
     "name": "stdout",
     "output_type": "stream",
     "text": [
      "697.47\n",
      "saved:  /home/tuyendv/projects/speaker-diazation/data/dev/TS3004b.rttm\n",
      "/home/tuyendv/projects/speaker-diazation/diarization-data/rttms/dev/IB4010.rttm\n"
     ]
    },
    {
     "name": "stderr",
     "output_type": "stream",
     "text": [
      " 44%|████▍     | 8/18 [00:12<00:19,  1.92s/it]"
     ]
    },
    {
     "name": "stdout",
     "output_type": "stream",
     "text": [
      "187.04\n",
      "saved:  /home/tuyendv/projects/speaker-diazation/data/dev/IB4010.rttm\n",
      "/home/tuyendv/projects/speaker-diazation/diarization-data/rttms/dev/IB4004.rttm\n"
     ]
    },
    {
     "name": "stderr",
     "output_type": "stream",
     "text": [
      " 50%|█████     | 9/18 [00:14<00:19,  2.11s/it]"
     ]
    },
    {
     "name": "stdout",
     "output_type": "stream",
     "text": [
      "157.52\n",
      "saved:  /home/tuyendv/projects/speaker-diazation/data/dev/IB4004.rttm\n",
      "/home/tuyendv/projects/speaker-diazation/diarization-data/rttms/dev/TS3004c.rttm\n"
     ]
    },
    {
     "name": "stderr",
     "output_type": "stream",
     "text": [
      " 56%|█████▌    | 10/18 [00:16<00:16,  2.09s/it]"
     ]
    },
    {
     "name": "stdout",
     "output_type": "stream",
     "text": [
      "385.29\n",
      "saved:  /home/tuyendv/projects/speaker-diazation/data/dev/TS3004c.rttm\n",
      "/home/tuyendv/projects/speaker-diazation/diarization-data/rttms/dev/IB4003.rttm\n"
     ]
    },
    {
     "name": "stderr",
     "output_type": "stream",
     "text": [
      " 61%|██████    | 11/18 [00:19<00:14,  2.13s/it]"
     ]
    },
    {
     "name": "stdout",
     "output_type": "stream",
     "text": [
      "125.65\n",
      "saved:  /home/tuyendv/projects/speaker-diazation/data/dev/IB4003.rttm\n",
      "/home/tuyendv/projects/speaker-diazation/diarization-data/rttms/dev/IB4001.rttm\n"
     ]
    },
    {
     "name": "stderr",
     "output_type": "stream",
     "text": [
      " 67%|██████▋   | 12/18 [00:20<00:11,  1.92s/it]"
     ]
    },
    {
     "name": "stdout",
     "output_type": "stream",
     "text": [
      "177.88\n",
      "saved:  /home/tuyendv/projects/speaker-diazation/data/dev/IB4001.rttm\n",
      "/home/tuyendv/projects/speaker-diazation/diarization-data/rttms/dev/IS1008b.rttm\n"
     ]
    },
    {
     "name": "stderr",
     "output_type": "stream",
     "text": [
      " 72%|███████▏  | 13/18 [00:21<00:08,  1.74s/it]"
     ]
    },
    {
     "name": "stdout",
     "output_type": "stream",
     "text": [
      "127.58\n",
      "saved:  /home/tuyendv/projects/speaker-diazation/data/dev/IS1008b.rttm\n",
      "/home/tuyendv/projects/speaker-diazation/diarization-data/rttms/dev/ES2011d.rttm\n"
     ]
    },
    {
     "name": "stderr",
     "output_type": "stream",
     "text": [
      " 78%|███████▊  | 14/18 [00:23<00:06,  1.68s/it]"
     ]
    },
    {
     "name": "stdout",
     "output_type": "stream",
     "text": [
      "352.24\n",
      "saved:  /home/tuyendv/projects/speaker-diazation/data/dev/ES2011d.rttm\n",
      "/home/tuyendv/projects/speaker-diazation/diarization-data/rttms/dev/IB4002.rttm\n"
     ]
    },
    {
     "name": "stderr",
     "output_type": "stream",
     "text": [
      " 83%|████████▎ | 15/18 [00:25<00:04,  1.66s/it]"
     ]
    },
    {
     "name": "stdout",
     "output_type": "stream",
     "text": [
      "281.47\n",
      "saved:  /home/tuyendv/projects/speaker-diazation/data/dev/IB4002.rttm\n",
      "/home/tuyendv/projects/speaker-diazation/diarization-data/rttms/dev/TS3004d.rttm\n"
     ]
    },
    {
     "name": "stderr",
     "output_type": "stream",
     "text": [
      " 89%|████████▉ | 16/18 [00:26<00:03,  1.73s/it]"
     ]
    },
    {
     "name": "stdout",
     "output_type": "stream",
     "text": [
      "378.73\n",
      "saved:  /home/tuyendv/projects/speaker-diazation/data/dev/TS3004d.rttm\n",
      "/home/tuyendv/projects/speaker-diazation/diarization-data/rttms/dev/ES2011c.rttm\n"
     ]
    },
    {
     "name": "stderr",
     "output_type": "stream",
     "text": [
      " 94%|█████████▍| 17/18 [00:28<00:01,  1.66s/it]"
     ]
    },
    {
     "name": "stdout",
     "output_type": "stream",
     "text": [
      "242.53\n",
      "saved:  /home/tuyendv/projects/speaker-diazation/data/dev/ES2011c.rttm\n",
      "/home/tuyendv/projects/speaker-diazation/diarization-data/rttms/dev/ES2011b.rttm\n"
     ]
    },
    {
     "name": "stderr",
     "output_type": "stream",
     "text": [
      "100%|██████████| 18/18 [00:29<00:00,  1.66s/it]"
     ]
    },
    {
     "name": "stdout",
     "output_type": "stream",
     "text": [
      "236.55\n",
      "saved:  /home/tuyendv/projects/speaker-diazation/data/dev/ES2011b.rttm\n"
     ]
    },
    {
     "name": "stderr",
     "output_type": "stream",
     "text": [
      "\n"
     ]
    }
   ],
   "source": [
    "for rttm_file in tqdm(rttm_files):\n",
    "    retaglabel(rttm_file)"
   ]
  }
 ],
 "metadata": {
  "kernelspec": {
   "display_name": "Python 3.7.13 ('eend')",
   "language": "python",
   "name": "python3"
  },
  "language_info": {
   "codemirror_mode": {
    "name": "ipython",
    "version": 3
   },
   "file_extension": ".py",
   "mimetype": "text/x-python",
   "name": "python",
   "nbconvert_exporter": "python",
   "pygments_lexer": "ipython3",
   "version": "3.7.13"
  },
  "orig_nbformat": 4,
  "vscode": {
   "interpreter": {
    "hash": "ff14e933c3e47128622cd419be775ae975f156723cd0a02fe37545a1e9c06a02"
   }
  }
 },
 "nbformat": 4,
 "nbformat_minor": 2
}
